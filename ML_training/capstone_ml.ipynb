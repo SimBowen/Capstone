{
  "cells": [
    {
      "cell_type": "code",
      "execution_count": null,
      "metadata": {
        "colab": {
          "base_uri": "https://localhost:8080/"
        },
        "id": "F-qhZrYbD5y7",
        "outputId": "df761d7e-bf08-4eab-fc1d-31ca0be02f8d"
      },
      "outputs": [
        {
          "output_type": "stream",
          "name": "stdout",
          "text": [
            "Mounted at /content/gdrive\n"
          ]
        }
      ],
      "source": [
        "from google.colab import drive\n",
        "import os\n",
        "drive.mount('/content/gdrive')\n",
        "os.chdir('/content/gdrive/My Drive/Capstone/capstone_raw_data_v2.0') "
      ]
    },
    {
      "cell_type": "code",
      "execution_count": null,
      "metadata": {
        "id": "-HMBEZdVz3VF"
      },
      "outputs": [],
      "source": [
        "#data.py\n",
        "import pandas as pd\n",
        "\n",
        "def read_action_data(action, files):\n",
        "  data_list = []\n",
        "  \n",
        "  file_name = action + \"_%d.csv\"\n",
        "  for i in range(files):\n",
        "    df = pd.read_csv ((file_name%i), names=[\"AccX\", \"AccY\", \"AccZ\", \"GyroX\", \"GyroY\", \"GyroZ\"])\n",
        "    data_list.append(df)\n",
        "  consolidated = pd.concat(data_list)\n",
        "  consolidated['Action']=action\n",
        "  return consolidated\n",
        "  \n",
        "def raw_to_df(files):\n",
        "  grenade = read_action_data('grenade', files)\n",
        "  shield = read_action_data('shield', files)\n",
        "  quit =  read_action_data('quit', files)\n",
        "  reload = read_action_data('reload', files)\n",
        "  walk = read_action_data('walk', files)\n",
        "  consolidated = pd.concat([grenade,shield,quit,reload])\n",
        "  con_w = pd.concat([grenade,shield,quit,reload,walk])\n",
        "  return (grenade,shield,quit,reload,walk,consolidated,con_w)\n"
      ]
    },
    {
      "cell_type": "code",
      "execution_count": null,
      "metadata": {
        "id": "06dE6Yh9TQ-W"
      },
      "outputs": [],
      "source": [
        "#data_analysis.py\n",
        "import numpy as np\n",
        "import pandas as pd\n",
        "\n",
        "\n",
        "#Data Analysis for activity detection\n",
        "def plot_columns(column_name,grenade,shield,quit,reload,walk):\n",
        "  grenade[[column_name]].plot()\n",
        "  shield[[column_name]].plot()\n",
        "  quit[[column_name]].plot()\n",
        "  reload[[column_name]].plot()\n",
        "  walk[[column_name]].plot()\n",
        "\n",
        "#Double check activity detection threshold\n",
        "def sample_splitter(data):\n",
        "  samples = []\n",
        "  for i in range(int(len(data)/60)):\n",
        "    temp = data[i*60:(i*60+60)]\n",
        "    samples.append(temp)\n",
        "  return samples\n",
        "\n",
        "#y of non action seems to always be negative\n",
        "def activity_checker(sample):\n",
        "  a_level = 0\n",
        "  for z in range(len(sample)):\n",
        "    if sample[z]> 0.5:\n",
        "      a_level+=1\n",
        "    if sample[z]> 0:\n",
        "      a_level+=1\n",
        "    if sample[z]>-0.2:\n",
        "      a_level+=1\n",
        "\n",
        "\n",
        "  return a_level\n",
        "\n",
        "\n",
        "def max_act_checker(samples):\n",
        "  highest = -100\n",
        "  for t in range(len(samples)):\n",
        "    sample = samples[t]\n",
        "    c_act = activity_checker(sample)\n",
        "    if highest == -100:\n",
        "      highest = c_act\n",
        "    elif c_act > highest:\n",
        "      highest = c_act\n",
        "  return str(highest)\n",
        "\n",
        "def min_act_checker(samples):\n",
        "  lowest = 100\n",
        "  for t in range(len(samples)):\n",
        "    sample = samples[t]\n",
        "    c_act = activity_checker(sample)\n",
        "    if lowest == 100:\n",
        "      lowest = c_act\n",
        "    elif c_act < lowest:\n",
        "      lowest = c_act\n",
        "  return str(lowest)\n",
        "\n",
        "def column_values(data, column_name):\n",
        "  return data[[column_name]].values\n",
        "\n",
        "def act_range_checker(data):\n",
        "  arr = column_values(data, 'AccX')\n",
        "  samples = sample_splitter(arr)\n",
        "  min = min_act_checker(samples)\n",
        "  max = max_act_checker(samples)\n",
        "  return \" Min: %s, Max: %s\"%(min, max)\n",
        "\n",
        "\n",
        "def get_corr(extracted, labels, threshold):\n",
        "  test = pd.DataFrame(np.array(extracted))\n",
        "  labels_test = pd.DataFrame(np.array(labels))\n",
        "  labels_test.columns = [\"Action\"]\n",
        "  corr = pd.concat([test,labels_test], axis=1)\n",
        "  corr['Action'] = pd.Categorical(corr['Action'])\n",
        "  corr['action'] = corr['Action'].cat.codes\n",
        "  action_corr = corr.corr().iloc[432].to_numpy()\n",
        "\n",
        "  columns = []\n",
        "  acc_x = True\n",
        "  acc_y = True\n",
        "  acc_z = True\n",
        "  g_x = True\n",
        "  g_y = True\n",
        "  g_z = True\n",
        "  mag = True\n",
        "  for i in range(len(action_corr)):\n",
        "    if action_corr[i] >=threshold or action_corr[i] <= -threshold:\n",
        "      if i <60 and acc_x:\n",
        "        print(\"accx: %s\"%action_corr[i])\n",
        "        acc_x = False\n",
        "        columns.append(i+1)\n",
        "      elif i >=60 and i <120 and acc_y:\n",
        "        print(\"accy: %s\"%action_corr[i])\n",
        "        acc_y = False\n",
        "        columns.append(i+1)\n",
        "      elif i >=120 and i <180 and acc_z:\n",
        "        print(\"accz: %s\"%action_corr[i])\n",
        "        acc_z = False\n",
        "        columns.append(i+1)\n",
        "      elif i >=180 and i <240 and g_x:\n",
        "        print(\"gyrox: %s\"%action_corr[i])\n",
        "        g_x = False\n",
        "        columns.append(i+1)\n",
        "      elif i >=240 and i <300 and g_y:\n",
        "        print(\"gyroy: %s\"%action_corr[i])\n",
        "        g_y = False\n",
        "        columns.append(i+1)\n",
        "      elif i >=300 and i <360 and g_z:\n",
        "        print(\"gyroz: %s\"%action_corr[i])\n",
        "        g_z = False\n",
        "        columns.append(i+1)\n",
        "      elif i >=360 and i <372:\n",
        "        columns.append(i+1)\n",
        "        if(i== 360):\n",
        "          print(\"acc mean x: %s\"%(action_corr[i]))\n",
        "        if(i == 361):\n",
        "          print(\"acc mean y: %s\"%action_corr[i])\n",
        "        if(i == 362):\n",
        "          print(\"acc mean z: %s\"%action_corr[i])\n",
        "        if(i == 363):\n",
        "          print(\"gyro mean x: %s\"%action_corr[i])\n",
        "        if(i == 364):\n",
        "          print(\"gyro mean y: %s\"%(action_corr[i]))\n",
        "        if(i== 365):\n",
        "          print(\"gyro mean z: %s\"%action_corr[i])\n",
        "        if(i == 366):\n",
        "          print(\"acc median x: %s\"%action_corr[i])\n",
        "        if(i == 367):\n",
        "          print(\"acc median y: %s\"%action_corr[i])\n",
        "        if(i == 368):\n",
        "          print(\"acc median z: %s\"%action_corr[i])\n",
        "        if(i == 369):\n",
        "          print(\"gyro median x: %s\"%action_corr[i])\n",
        "        if(i == 370):\n",
        "          print(\"gyro median y: %s\"%action_corr[i])\n",
        "        if(i== 371):\n",
        "          print(\"gyro median z: %s\"%action_corr[i]) \n",
        "      elif i >=372 and i < 432 and mag:\n",
        "        mag = False\n",
        "        columns.append(i+1)\n",
        "        print(\"mag: %s\"%action_corr[i])\n",
        "\n"
      ]
    },
    {
      "cell_type": "code",
      "execution_count": null,
      "metadata": {
        "id": "4gSdjtV6T8jD"
      },
      "outputs": [],
      "source": [
        "#feature.py\n",
        "from numpy import mean, median\n",
        "import numpy as np\n",
        "from scipy import stats\n",
        "\n",
        "def split_samples(combined_raw, timesteps):\n",
        "  segments = []\n",
        "  labels = []\n",
        "  N_TIME_STEPS = timesteps\n",
        "  for i in range(0, len(combined_raw) - N_TIME_STEPS):\n",
        "    ax = combined_raw['AccX'].values[i: i + N_TIME_STEPS]\n",
        "    ay = combined_raw['AccY'].values[i: i + N_TIME_STEPS]\n",
        "    az = combined_raw['AccZ'].values[i: i + N_TIME_STEPS]\n",
        "    gx = combined_raw['GyroX'].values[i: i + N_TIME_STEPS]\n",
        "    gy = combined_raw['GyroY'].values[i: i + N_TIME_STEPS]\n",
        "    gz = combined_raw['GyroZ'].values[i: i + N_TIME_STEPS]\n",
        "    label = stats.mode(combined_raw['Action'][i: i + N_TIME_STEPS])[0][0]\n",
        "    segments.append([ax, ay, az, gx, gy, gz])\n",
        "    labels.append(label)\n",
        "  return (segments, labels)\n",
        "\n",
        "def split_samples_2s(combined_raw):\n",
        "  segments = []\n",
        "  labels = []\n",
        "  N_TIME_STEPS = 40\n",
        "  for i in range(0, len(combined_raw) - 60):\n",
        "    if i%60 >= 40:\n",
        "      pass\n",
        "    else:\n",
        "      ax = combined_raw['AccX'].values[i: i + N_TIME_STEPS]\n",
        "      ay = combined_raw['AccY'].values[i: i + N_TIME_STEPS]\n",
        "      az = combined_raw['AccZ'].values[i: i + N_TIME_STEPS]\n",
        "      gx = combined_raw['GyroX'].values[i: i + N_TIME_STEPS]\n",
        "      gy = combined_raw['GyroY'].values[i: i + N_TIME_STEPS]\n",
        "      gz = combined_raw['GyroZ'].values[i: i + N_TIME_STEPS]\n",
        "      label = stats.mode(combined_raw['Action'][i: i + N_TIME_STEPS])[0][0]\n",
        "      segments.append([ax, ay, az, gx, gy, gz])\n",
        "      labels.append(label)\n",
        "  return (segments, labels)\n",
        "\n",
        "def Mean(data):\n",
        "    \"\"\"Returns the mean of a time series\"\"\"\n",
        "    return data.mean()\n",
        "\n",
        "def Median(data):\n",
        "    \"\"\"Returns the median of a time series\"\"\"\n",
        "    return data.median()\n",
        "\n",
        "\n",
        "from math import sqrt\n",
        "\n",
        "def extract_acc_magnitude(data):\n",
        "  mag_array = []\n",
        "  for i in range(len(data)):\n",
        "    mags = []\n",
        "    for t in range(len(data[i][0])): \n",
        "     mags.append( sqrt( data[i][0][t]**2 + data[i][1][t]**2 + data[i][2][t]**2) )\n",
        "    mag_array.append(mags)\n",
        "  return mag_array\n",
        "\n",
        "def extract_acc_median(data):\n",
        "  median_array = []\n",
        "\n",
        "  for i in range(len(data)):\n",
        "    median_array.append([np.median(data[i][0]), np.median(data[i][1]), np.median(data[i][2])])\n",
        "  return median_array\n",
        "\n",
        "def extract_gyro_median(data):\n",
        "  median_array = []\n",
        "\n",
        "  for i in range(len(data)):\n",
        "    median_array.append([np.median(data[i][3]), np.median(data[i][4]), np.median(data[i][5])])\n",
        "  return median_array\n",
        "\n",
        "\n",
        "def extract_acc_mean(data):\n",
        "  mean_array = []\n",
        "\n",
        "  for i in range(len(data)):\n",
        "    mean_array.append([Mean(data[i][0]),Mean(data[i][1]),Mean(data[i][2])])\n",
        "  return mean_array\n",
        "\n",
        "def extract_gyro_mean(data):\n",
        "  mean_array = []\n",
        "\n",
        "  for i in range(len(data)):\n",
        "    mean_array.append([Mean(data[i][3]),Mean(data[i][4]),Mean(data[i][5])])\n",
        "  return mean_array\n",
        "\n",
        "#2-181 acc, 182-361 gyro, 362-364 mean_a, 365-367 mean_g, 368-370 median_a, 371-373 median_g, 374-433 mag_a \n",
        "#acc mean -0.205, 0.628, 0.331\n",
        "#gyro mean -0.02446,-0.274, 0.18607\n",
        "#acc median 0.395, 0.66567, 0.1941\n",
        "#gyro median -0.24592, .086605, -0.01507\n",
        "def merge_feature_array(raw, mean_a, mean_g, median_a, median_g, mag):\n",
        "  out = []\n",
        "  raw = np.array(raw)\n",
        "  for i in range(len(raw)):\n",
        "    arr1 = np.concatenate((raw[i].flatten(), mean_a[i]))\n",
        "    arr2 = np.concatenate((arr1, mean_g[i]))\n",
        "    arr3 = np.concatenate((arr2, median_a[i]))\n",
        "    arr4 = np.concatenate((arr3, median_g[i]))\n",
        "    arr5 = np.concatenate((arr4,mag[i]))\n",
        "    out.append(arr5)\n",
        "\n",
        "  return out\n",
        "\n",
        "\n",
        "\n",
        "def merge_feature_array_reduced(raw, mean_a, mean_g, median_a, median_g):\n",
        "  out = []\n",
        "  raw = np.array(raw)\n",
        "  for i in range(len(raw)):\n",
        "    temp = raw[i][:3]\n",
        "    arr1 = np.concatenate((temp.flatten(), mean_a[i]))\n",
        "    arr2 = np.concatenate((arr1, mean_g[i]))\n",
        "    arr3 = np.concatenate((arr2, median_a[i]))\n",
        "    arr4 = np.concatenate((arr3, median_g[i]))\n",
        "    out.append(arr4)\n",
        "\n",
        "  return out\n",
        "\n",
        "\n",
        "\n",
        "def extract_features(data):\n",
        "  raw = data\n",
        "  mean_a = extract_acc_mean(data)\n",
        "  mean_g = extract_gyro_mean(data)\n",
        "  median_a = extract_acc_median(data)\n",
        "  median_g = extract_gyro_median(data)\n",
        "  mag = extract_acc_magnitude(data)\n",
        "  return merge_feature_array(raw,mean_a,mean_g,median_a,median_g, mag)\n",
        "\n",
        "def label_index(labels, one_hot):\n",
        "  def find_index(index):\n",
        "    for i in range(len(one_hot)):\n",
        "      if one_hot[i][index] == 1:\n",
        "        return (labels[i], index, one_hot[i])\n",
        "  for i in range(5):\n",
        "    print(\"%s -  index: %s, one hot: %s\"%(find_index(i)))\n",
        "\n",
        "def generate_test(segments, one_hot):\n",
        "  samples = []\n",
        "  def find_index(index):\n",
        "    for i in range(len(one_hot)):\n",
        "      if one_hot[i][index] == 1:\n",
        "        return segments[i]\n",
        "  for i in range(4):\n",
        "    samples.append(find_index(i))\n",
        "  return samples\n",
        "\n",
        "def save_test(segments, one_hot):\n",
        "  samples = generate_test(segments, one_hot)\n",
        "  test_inputs = \"float test_input[INPUT_LAYER*NO_OF_TESTCASE] = \" + bias_to_cpp(samples)\n",
        "  file = open(\"test.txt\", \"w+\")\n",
        "  file.write(test_inputs)\n",
        "  file.close()"
      ]
    },
    {
      "cell_type": "code",
      "execution_count": null,
      "metadata": {
        "id": "AHe1lPMEhAZ1"
      },
      "outputs": [],
      "source": [
        "def extract_features_reduced(data):\n",
        "  raw = data\n",
        "  mean_a = extract_acc_mean(data)\n",
        "  mean_g = extract_gyro_mean(data)\n",
        "  median_a = extract_acc_median(data)\n",
        "  median_g = extract_gyro_median(data)\n",
        "  return merge_feature_array_reduced(raw,mean_a,mean_g,median_a,median_g)"
      ]
    },
    {
      "cell_type": "code",
      "execution_count": null,
      "metadata": {
        "id": "9yxovsp_UDHk"
      },
      "outputs": [],
      "source": [
        "#model.py\n",
        "from sklearn.model_selection import train_test_split\n",
        "from keras.models import Sequential\n",
        "from keras.layers import Dense\n",
        "from keras.optimizers import adam_v2\n",
        "\n",
        "from sklearn.metrics import classification_report, confusion_matrix\n",
        "import matplotlib.pyplot as plt\n",
        "import seaborn as sn\n",
        "\n",
        "def prepare_training_data(segments, labels):\n",
        "  extracted = extract_features(segments)\n",
        "  one_hot = np.asarray(pd.get_dummies(labels), dtype = np.float32)\n",
        "  return (extracted, one_hot)\n",
        "\n",
        "\n",
        "def prepare_training_data_reduced(segments, labels):\n",
        "  extracted = extract_features_reduced(segments)\n",
        "  one_hot = np.asarray(pd.get_dummies(labels), dtype = np.float32)\n",
        "  return (extracted, one_hot)\n",
        "\n",
        "def model_eval(model, X_test, y_test):\n",
        "  loss, acc = model.evaluate(x=X_test, y=y_test)\n",
        "  y_prediction = model.predict(X_test)\n",
        "  print(\"Test accuracy: %3.2f, loss: %3.2f\"%(acc, loss))\n",
        "\n",
        "  y_pred=np.argmax(y_prediction, axis=1)\n",
        "  y_test=np.argmax(y_test, axis=1)\n",
        "  cm = confusion_matrix(y_test, y_pred)\n",
        "\n",
        "  df_cm = pd.DataFrame(cm, range(5), range(5))\n",
        "  plt.figure(figsize=(10,7))\n",
        "  sn.set(font_scale=1.4) # for label size\n",
        "  sn.heatmap(df_cm, annot=True, annot_kws={\"size\": 16}, fmt='g') # font size\n",
        "\n",
        "  plt.show()\n",
        "\n",
        "  np.savetxt('x.csv', X_test, delimiter=',')\n",
        "  np.savetxt('y.csv', y_test, delimiter=',')\n",
        "\n",
        "\n",
        "\n",
        "def np_to_cpp(data):\n",
        "  layer = np.transpose(np.array(data))\n",
        "  layer_flat = layer.flatten()\n",
        "  layer_cpp = '{'\n",
        "  for i in range(len(layer_flat)):\n",
        "    layer_cpp += str(layer_flat[i])\n",
        "    if i < len(layer_flat)-1:\n",
        "      layer_cpp +=','\n",
        "  layer_cpp +='};'\n",
        "  return layer_cpp\n",
        "\n",
        "def bias_to_cpp(data):\n",
        "  layer = np.array(data)\n",
        "  layer_flat = layer.flatten()\n",
        "  layer_cpp = '{'\n",
        "  for i in range(len(layer_flat)):\n",
        "    layer_cpp += str(layer_flat[i])\n",
        "    if i < len(layer_flat)-1:\n",
        "      layer_cpp +=','\n",
        "  layer_cpp +='};'\n",
        "  return layer_cpp\n",
        "\n",
        "\n",
        "def model_to_cpp(model):\n",
        "  layer_1_cpp = np_to_cpp(model.layers[0].get_weights()[0])\n",
        "  layer_1_bias = bias_to_cpp(model.layers[0].get_weights()[1])\n",
        "  layer_2_cpp = np_to_cpp(model.layers[1].get_weights()[0])\n",
        "  layer_2_bias = bias_to_cpp(model.layers[1].get_weights()[1])\n",
        "  layer_3_cpp = np_to_cpp(model.layers[2].get_weights()[0])\n",
        "  layer_3_bias = bias_to_cpp(model.layers[2].get_weights()[1])\n",
        "  w_1 = \"float l1_weight[INPUT_LAYER * LAYER_1] = \" + layer_1_cpp\n",
        "  w_2 = \"float l2_weight[LAYER_1 * LAYER_2] = \" + layer_2_cpp\n",
        "  w_3 = \"float output_weight[LAYER_2 * OUTPUT_LAYER] = \" + layer_3_cpp\n",
        "  b_1 = \"float l1_bias[LAYER_1] = \" + layer_1_bias\n",
        "  b_2 = \"float l2_bias[LAYER_2] = \" + layer_2_bias\n",
        "  b_3 = \"float output_bias[OUTPUT_LAYER] = \" + layer_3_bias\n",
        "\n",
        "  file = open(\"cpp_weights.txt\", \"a+\")\n",
        "  file.write(w_1)\n",
        "  file.write(\"\\n\")\n",
        "  file.write(\"\\n\")\n",
        "  file.write(w_2)\n",
        "  file.write(\"\\n\")\n",
        "  file.write(\"\\n\")\n",
        "  file.write(w_3)\n",
        "  file.write(\"\\n\")\n",
        "  file.write(\"\\n\")\n",
        "  file.write(b_1)\n",
        "  file.write(\"\\n\")\n",
        "  file.write(\"\\n\")\n",
        "  file.write(b_2)\n",
        "  file.write(\"\\n\")\n",
        "  file.write(\"\\n\")\n",
        "  file.write(b_3)\n",
        "\n",
        "  "
      ]
    },
    {
      "cell_type": "code",
      "execution_count": null,
      "metadata": {
        "colab": {
          "base_uri": "https://localhost:8080/"
        },
        "id": "kA0KycTes5mV",
        "outputId": "266a32f2-ba15-43e5-9c72-fd900f2917de"
      },
      "outputs": [
        {
          "output_type": "stream",
          "name": "stdout",
          "text": [
            "Total number of samples : 1593\n"
          ]
        }
      ],
      "source": [
        "grenade,shield,quit,reload,walk,combined_raw, con_w = raw_to_df(8)\n",
        "print(\"Total number of samples : \" + str(int(len(combined_raw)/60)))"
      ]
    },
    {
      "cell_type": "code",
      "source": [
        "segments2,labels2 = split_samples_2s(con_w)"
      ],
      "metadata": {
        "id": "G7R9YXTND4gl"
      },
      "execution_count": null,
      "outputs": []
    },
    {
      "cell_type": "code",
      "source": [
        "len(segments2)"
      ],
      "metadata": {
        "colab": {
          "base_uri": "https://localhost:8080/"
        },
        "id": "DVqPM9NrEFfj",
        "outputId": "0bc6b8ee-efb8-4781-d425-a1fff83b4190"
      },
      "execution_count": null,
      "outputs": [
        {
          "output_type": "execute_result",
          "data": {
            "text/plain": [
              "71760"
            ]
          },
          "metadata": {},
          "execution_count": 22
        }
      ]
    },
    {
      "cell_type": "code",
      "source": [
        "np.array(segments2).shape"
      ],
      "metadata": {
        "colab": {
          "base_uri": "https://localhost:8080/"
        },
        "id": "7B9uDNqMFrRQ",
        "outputId": "5c48d2eb-196e-497e-90a7-33438824e1f4"
      },
      "execution_count": null,
      "outputs": [
        {
          "output_type": "execute_result",
          "data": {
            "text/plain": [
              "(71760, 6, 40)"
            ]
          },
          "metadata": {},
          "execution_count": 23
        }
      ]
    },
    {
      "cell_type": "code",
      "source": [
        "extracted_reduced, one_hot = prepare_training_data_reduced(segments, labels)\n"
      ],
      "metadata": {
        "id": "9iBVEjhrF0m5",
        "colab": {
          "base_uri": "https://localhost:8080/",
          "height": 165
        },
        "outputId": "f67fb6a8-5bd1-4eee-e546-86d188a267b2"
      },
      "execution_count": null,
      "outputs": [
        {
          "output_type": "error",
          "ename": "NameError",
          "evalue": "ignored",
          "traceback": [
            "\u001b[0;31m---------------------------------------------------------------------------\u001b[0m",
            "\u001b[0;31mNameError\u001b[0m                                 Traceback (most recent call last)",
            "\u001b[0;32m<ipython-input-9-d9f0b83b32c3>\u001b[0m in \u001b[0;36m<module>\u001b[0;34m\u001b[0m\n\u001b[0;32m----> 1\u001b[0;31m \u001b[0mextracted_reduced\u001b[0m\u001b[0;34m,\u001b[0m \u001b[0mone_hot\u001b[0m \u001b[0;34m=\u001b[0m \u001b[0mprepare_training_data_reduced\u001b[0m\u001b[0;34m(\u001b[0m\u001b[0msegments\u001b[0m\u001b[0;34m,\u001b[0m \u001b[0mlabels\u001b[0m\u001b[0;34m)\u001b[0m\u001b[0;34m\u001b[0m\u001b[0;34m\u001b[0m\u001b[0m\n\u001b[0m",
            "\u001b[0;31mNameError\u001b[0m: name 'segments' is not defined"
          ]
        }
      ]
    },
    {
      "cell_type": "code",
      "source": [
        "np.array(extracted_reduced).shape"
      ],
      "metadata": {
        "colab": {
          "base_uri": "https://localhost:8080/"
        },
        "id": "fJMWvwSlF-fn",
        "outputId": "9b0f2fc4-906f-4850-a252-fa7c6cc6b27b"
      },
      "execution_count": null,
      "outputs": [
        {
          "output_type": "execute_result",
          "data": {
            "text/plain": [
              "(71760, 132)"
            ]
          },
          "metadata": {},
          "execution_count": 26
        }
      ]
    },
    {
      "cell_type": "code",
      "execution_count": null,
      "metadata": {
        "colab": {
          "base_uri": "https://localhost:8080/"
        },
        "id": "HhJpbJ2JbkLH",
        "outputId": "d24315e1-70b7-4dd6-f257-2c1a93bece8a"
      },
      "outputs": [
        {
          "data": {
            "text/plain": [
              "188"
            ]
          },
          "execution_count": 14,
          "metadata": {},
          "output_type": "execute_result"
        }
      ],
      "source": [
        "test = sample_splitter(column_values(reload,'AccX'))\n",
        "len(test)"
      ]
    },
    {
      "cell_type": "code",
      "execution_count": null,
      "metadata": {
        "id": "ogfmiGdocDTo"
      },
      "outputs": [],
      "source": [
        "for i in range(len(test)):\n",
        "  print(activity_checker(test[i]))"
      ]
    },
    {
      "cell_type": "code",
      "execution_count": null,
      "metadata": {
        "id": "EoYBgX2sVaQ-"
      },
      "outputs": [],
      "source": [
        "#Take every 3rd reading 1 reading every 0.15s, 6.666 Hz\n",
        "edit  = con_w.iloc[::3, :]\n",
        "segments,labels = split_samples(edit, 20)\n",
        "extracted_reduced, one_hot = prepare_training_data_reduced(segments, labels)\n",
        "test = pd.DataFrame(np.array(extracted_reduced))"
      ]
    },
    {
      "cell_type": "code",
      "execution_count": null,
      "metadata": {
        "colab": {
          "base_uri": "https://localhost:8080/",
          "height": 206
        },
        "id": "jbZYaZM20YQR",
        "outputId": "08200509-a7a0-4b0c-d828-f69adccb6d07"
      },
      "outputs": [
        {
          "data": {
            "text/html": [
              "\n",
              "  <div id=\"df-bd9c92ce-74cd-40ad-b19c-5fffa6209b5c\">\n",
              "    <div class=\"colab-df-container\">\n",
              "      <div>\n",
              "<style scoped>\n",
              "    .dataframe tbody tr th:only-of-type {\n",
              "        vertical-align: middle;\n",
              "    }\n",
              "\n",
              "    .dataframe tbody tr th {\n",
              "        vertical-align: top;\n",
              "    }\n",
              "\n",
              "    .dataframe thead th {\n",
              "        text-align: right;\n",
              "    }\n",
              "</style>\n",
              "<table border=\"1\" class=\"dataframe\">\n",
              "  <thead>\n",
              "    <tr style=\"text-align: right;\">\n",
              "      <th></th>\n",
              "      <th>AccX</th>\n",
              "      <th>AccY</th>\n",
              "      <th>AccZ</th>\n",
              "      <th>GyroX</th>\n",
              "      <th>GyroY</th>\n",
              "      <th>GyroZ</th>\n",
              "      <th>Action</th>\n",
              "    </tr>\n",
              "  </thead>\n",
              "  <tbody>\n",
              "    <tr>\n",
              "      <th>0</th>\n",
              "      <td>-0.952881</td>\n",
              "      <td>-0.035156</td>\n",
              "      <td>-0.002930</td>\n",
              "      <td>-2.348397</td>\n",
              "      <td>-2.511450</td>\n",
              "      <td>2.790000</td>\n",
              "      <td>grenade</td>\n",
              "    </tr>\n",
              "    <tr>\n",
              "      <th>1</th>\n",
              "      <td>-0.953125</td>\n",
              "      <td>-0.045898</td>\n",
              "      <td>-0.015381</td>\n",
              "      <td>-0.630840</td>\n",
              "      <td>-2.793893</td>\n",
              "      <td>1.759466</td>\n",
              "      <td>grenade</td>\n",
              "    </tr>\n",
              "    <tr>\n",
              "      <th>2</th>\n",
              "      <td>-0.955078</td>\n",
              "      <td>-0.044434</td>\n",
              "      <td>-0.007568</td>\n",
              "      <td>-3.600306</td>\n",
              "      <td>-1.580153</td>\n",
              "      <td>1.370153</td>\n",
              "      <td>grenade</td>\n",
              "    </tr>\n",
              "    <tr>\n",
              "      <th>3</th>\n",
              "      <td>-0.959473</td>\n",
              "      <td>-0.046143</td>\n",
              "      <td>-0.010010</td>\n",
              "      <td>-1.562137</td>\n",
              "      <td>-2.641221</td>\n",
              "      <td>1.095344</td>\n",
              "      <td>grenade</td>\n",
              "    </tr>\n",
              "    <tr>\n",
              "      <th>4</th>\n",
              "      <td>-0.956787</td>\n",
              "      <td>-0.052979</td>\n",
              "      <td>-0.002930</td>\n",
              "      <td>-2.333130</td>\n",
              "      <td>-2.549618</td>\n",
              "      <td>0.148779</td>\n",
              "      <td>grenade</td>\n",
              "    </tr>\n",
              "  </tbody>\n",
              "</table>\n",
              "</div>\n",
              "      <button class=\"colab-df-convert\" onclick=\"convertToInteractive('df-bd9c92ce-74cd-40ad-b19c-5fffa6209b5c')\"\n",
              "              title=\"Convert this dataframe to an interactive table.\"\n",
              "              style=\"display:none;\">\n",
              "        \n",
              "  <svg xmlns=\"http://www.w3.org/2000/svg\" height=\"24px\"viewBox=\"0 0 24 24\"\n",
              "       width=\"24px\">\n",
              "    <path d=\"M0 0h24v24H0V0z\" fill=\"none\"/>\n",
              "    <path d=\"M18.56 5.44l.94 2.06.94-2.06 2.06-.94-2.06-.94-.94-2.06-.94 2.06-2.06.94zm-11 1L8.5 8.5l.94-2.06 2.06-.94-2.06-.94L8.5 2.5l-.94 2.06-2.06.94zm10 10l.94 2.06.94-2.06 2.06-.94-2.06-.94-.94-2.06-.94 2.06-2.06.94z\"/><path d=\"M17.41 7.96l-1.37-1.37c-.4-.4-.92-.59-1.43-.59-.52 0-1.04.2-1.43.59L10.3 9.45l-7.72 7.72c-.78.78-.78 2.05 0 2.83L4 21.41c.39.39.9.59 1.41.59.51 0 1.02-.2 1.41-.59l7.78-7.78 2.81-2.81c.8-.78.8-2.07 0-2.86zM5.41 20L4 18.59l7.72-7.72 1.47 1.35L5.41 20z\"/>\n",
              "  </svg>\n",
              "      </button>\n",
              "      \n",
              "  <style>\n",
              "    .colab-df-container {\n",
              "      display:flex;\n",
              "      flex-wrap:wrap;\n",
              "      gap: 12px;\n",
              "    }\n",
              "\n",
              "    .colab-df-convert {\n",
              "      background-color: #E8F0FE;\n",
              "      border: none;\n",
              "      border-radius: 50%;\n",
              "      cursor: pointer;\n",
              "      display: none;\n",
              "      fill: #1967D2;\n",
              "      height: 32px;\n",
              "      padding: 0 0 0 0;\n",
              "      width: 32px;\n",
              "    }\n",
              "\n",
              "    .colab-df-convert:hover {\n",
              "      background-color: #E2EBFA;\n",
              "      box-shadow: 0px 1px 2px rgba(60, 64, 67, 0.3), 0px 1px 3px 1px rgba(60, 64, 67, 0.15);\n",
              "      fill: #174EA6;\n",
              "    }\n",
              "\n",
              "    [theme=dark] .colab-df-convert {\n",
              "      background-color: #3B4455;\n",
              "      fill: #D2E3FC;\n",
              "    }\n",
              "\n",
              "    [theme=dark] .colab-df-convert:hover {\n",
              "      background-color: #434B5C;\n",
              "      box-shadow: 0px 1px 3px 1px rgba(0, 0, 0, 0.15);\n",
              "      filter: drop-shadow(0px 1px 2px rgba(0, 0, 0, 0.3));\n",
              "      fill: #FFFFFF;\n",
              "    }\n",
              "  </style>\n",
              "\n",
              "      <script>\n",
              "        const buttonEl =\n",
              "          document.querySelector('#df-bd9c92ce-74cd-40ad-b19c-5fffa6209b5c button.colab-df-convert');\n",
              "        buttonEl.style.display =\n",
              "          google.colab.kernel.accessAllowed ? 'block' : 'none';\n",
              "\n",
              "        async function convertToInteractive(key) {\n",
              "          const element = document.querySelector('#df-bd9c92ce-74cd-40ad-b19c-5fffa6209b5c');\n",
              "          const dataTable =\n",
              "            await google.colab.kernel.invokeFunction('convertToInteractive',\n",
              "                                                     [key], {});\n",
              "          if (!dataTable) return;\n",
              "\n",
              "          const docLinkHtml = 'Like what you see? Visit the ' +\n",
              "            '<a target=\"_blank\" href=https://colab.research.google.com/notebooks/data_table.ipynb>data table notebook</a>'\n",
              "            + ' to learn more about interactive tables.';\n",
              "          element.innerHTML = '';\n",
              "          dataTable['output_type'] = 'display_data';\n",
              "          await google.colab.output.renderOutput(dataTable, element);\n",
              "          const docLink = document.createElement('div');\n",
              "          docLink.innerHTML = docLinkHtml;\n",
              "          element.appendChild(docLink);\n",
              "        }\n",
              "      </script>\n",
              "    </div>\n",
              "  </div>\n",
              "  "
            ],
            "text/plain": [
              "       AccX      AccY      AccZ     GyroX     GyroY     GyroZ   Action\n",
              "0 -0.952881 -0.035156 -0.002930 -2.348397 -2.511450  2.790000  grenade\n",
              "1 -0.953125 -0.045898 -0.015381 -0.630840 -2.793893  1.759466  grenade\n",
              "2 -0.955078 -0.044434 -0.007568 -3.600306 -1.580153  1.370153  grenade\n",
              "3 -0.959473 -0.046143 -0.010010 -1.562137 -2.641221  1.095344  grenade\n",
              "4 -0.956787 -0.052979 -0.002930 -2.333130 -2.549618  0.148779  grenade"
            ]
          },
          "execution_count": 13,
          "metadata": {},
          "output_type": "execute_result"
        }
      ],
      "source": [
        "grenade.head()"
      ]
    },
    {
      "cell_type": "code",
      "execution_count": null,
      "metadata": {
        "id": "rgk-THNnHHFB"
      },
      "outputs": [],
      "source": [
        "plot_columns('AccZ',grenade,shield,quit,reload,walk)"
      ]
    },
    {
      "cell_type": "code",
      "execution_count": null,
      "metadata": {
        "id": "Bw80gOxNHPap"
      },
      "outputs": [],
      "source": [
        "plot_columns('AccY',grenade,shield,quit,reload,walk)"
      ]
    },
    {
      "cell_type": "code",
      "execution_count": null,
      "metadata": {
        "id": "5h92fWMapNur"
      },
      "outputs": [],
      "source": [
        "plot_columns('AccX',grenade,shield,quit,reload,walk)"
      ]
    },
    {
      "cell_type": "code",
      "execution_count": null,
      "metadata": {
        "colab": {
          "base_uri": "https://localhost:8080/",
          "height": 206
        },
        "id": "iBZPy5M6o6zR",
        "outputId": "a8c7ca3f-bee1-4073-852e-6dd37b284fd0"
      },
      "outputs": [
        {
          "data": {
            "text/html": [
              "\n",
              "  <div id=\"df-05e41f0d-ff73-428f-b1e5-f902ce1e4208\">\n",
              "    <div class=\"colab-df-container\">\n",
              "      <div>\n",
              "<style scoped>\n",
              "    .dataframe tbody tr th:only-of-type {\n",
              "        vertical-align: middle;\n",
              "    }\n",
              "\n",
              "    .dataframe tbody tr th {\n",
              "        vertical-align: top;\n",
              "    }\n",
              "\n",
              "    .dataframe thead th {\n",
              "        text-align: right;\n",
              "    }\n",
              "</style>\n",
              "<table border=\"1\" class=\"dataframe\">\n",
              "  <thead>\n",
              "    <tr style=\"text-align: right;\">\n",
              "      <th></th>\n",
              "      <th>AccX</th>\n",
              "      <th>AccY</th>\n",
              "      <th>AccZ</th>\n",
              "      <th>GyroX</th>\n",
              "      <th>GyroY</th>\n",
              "      <th>GyroZ</th>\n",
              "      <th>Action</th>\n",
              "    </tr>\n",
              "  </thead>\n",
              "  <tbody>\n",
              "    <tr>\n",
              "      <th>0</th>\n",
              "      <td>-0.939453</td>\n",
              "      <td>-0.187012</td>\n",
              "      <td>-0.102051</td>\n",
              "      <td>-87.249161</td>\n",
              "      <td>11.572519</td>\n",
              "      <td>-28.156565</td>\n",
              "      <td>walk</td>\n",
              "    </tr>\n",
              "    <tr>\n",
              "      <th>1</th>\n",
              "      <td>-0.942383</td>\n",
              "      <td>-0.180908</td>\n",
              "      <td>-0.063965</td>\n",
              "      <td>-32.081219</td>\n",
              "      <td>12.603053</td>\n",
              "      <td>-27.439007</td>\n",
              "      <td>walk</td>\n",
              "    </tr>\n",
              "    <tr>\n",
              "      <th>2</th>\n",
              "      <td>-0.929199</td>\n",
              "      <td>-0.218262</td>\n",
              "      <td>-0.025635</td>\n",
              "      <td>24.056183</td>\n",
              "      <td>10.061069</td>\n",
              "      <td>-18.133663</td>\n",
              "      <td>walk</td>\n",
              "    </tr>\n",
              "    <tr>\n",
              "      <th>3</th>\n",
              "      <td>-0.935547</td>\n",
              "      <td>-0.212891</td>\n",
              "      <td>-0.016113</td>\n",
              "      <td>35.254658</td>\n",
              "      <td>11.213740</td>\n",
              "      <td>-28.118397</td>\n",
              "      <td>walk</td>\n",
              "    </tr>\n",
              "    <tr>\n",
              "      <th>4</th>\n",
              "      <td>-0.988770</td>\n",
              "      <td>-0.157959</td>\n",
              "      <td>-0.040283</td>\n",
              "      <td>12.880611</td>\n",
              "      <td>8.183207</td>\n",
              "      <td>-32.584045</td>\n",
              "      <td>walk</td>\n",
              "    </tr>\n",
              "  </tbody>\n",
              "</table>\n",
              "</div>\n",
              "      <button class=\"colab-df-convert\" onclick=\"convertToInteractive('df-05e41f0d-ff73-428f-b1e5-f902ce1e4208')\"\n",
              "              title=\"Convert this dataframe to an interactive table.\"\n",
              "              style=\"display:none;\">\n",
              "        \n",
              "  <svg xmlns=\"http://www.w3.org/2000/svg\" height=\"24px\"viewBox=\"0 0 24 24\"\n",
              "       width=\"24px\">\n",
              "    <path d=\"M0 0h24v24H0V0z\" fill=\"none\"/>\n",
              "    <path d=\"M18.56 5.44l.94 2.06.94-2.06 2.06-.94-2.06-.94-.94-2.06-.94 2.06-2.06.94zm-11 1L8.5 8.5l.94-2.06 2.06-.94-2.06-.94L8.5 2.5l-.94 2.06-2.06.94zm10 10l.94 2.06.94-2.06 2.06-.94-2.06-.94-.94-2.06-.94 2.06-2.06.94z\"/><path d=\"M17.41 7.96l-1.37-1.37c-.4-.4-.92-.59-1.43-.59-.52 0-1.04.2-1.43.59L10.3 9.45l-7.72 7.72c-.78.78-.78 2.05 0 2.83L4 21.41c.39.39.9.59 1.41.59.51 0 1.02-.2 1.41-.59l7.78-7.78 2.81-2.81c.8-.78.8-2.07 0-2.86zM5.41 20L4 18.59l7.72-7.72 1.47 1.35L5.41 20z\"/>\n",
              "  </svg>\n",
              "      </button>\n",
              "      \n",
              "  <style>\n",
              "    .colab-df-container {\n",
              "      display:flex;\n",
              "      flex-wrap:wrap;\n",
              "      gap: 12px;\n",
              "    }\n",
              "\n",
              "    .colab-df-convert {\n",
              "      background-color: #E8F0FE;\n",
              "      border: none;\n",
              "      border-radius: 50%;\n",
              "      cursor: pointer;\n",
              "      display: none;\n",
              "      fill: #1967D2;\n",
              "      height: 32px;\n",
              "      padding: 0 0 0 0;\n",
              "      width: 32px;\n",
              "    }\n",
              "\n",
              "    .colab-df-convert:hover {\n",
              "      background-color: #E2EBFA;\n",
              "      box-shadow: 0px 1px 2px rgba(60, 64, 67, 0.3), 0px 1px 3px 1px rgba(60, 64, 67, 0.15);\n",
              "      fill: #174EA6;\n",
              "    }\n",
              "\n",
              "    [theme=dark] .colab-df-convert {\n",
              "      background-color: #3B4455;\n",
              "      fill: #D2E3FC;\n",
              "    }\n",
              "\n",
              "    [theme=dark] .colab-df-convert:hover {\n",
              "      background-color: #434B5C;\n",
              "      box-shadow: 0px 1px 3px 1px rgba(0, 0, 0, 0.15);\n",
              "      filter: drop-shadow(0px 1px 2px rgba(0, 0, 0, 0.3));\n",
              "      fill: #FFFFFF;\n",
              "    }\n",
              "  </style>\n",
              "\n",
              "      <script>\n",
              "        const buttonEl =\n",
              "          document.querySelector('#df-05e41f0d-ff73-428f-b1e5-f902ce1e4208 button.colab-df-convert');\n",
              "        buttonEl.style.display =\n",
              "          google.colab.kernel.accessAllowed ? 'block' : 'none';\n",
              "\n",
              "        async function convertToInteractive(key) {\n",
              "          const element = document.querySelector('#df-05e41f0d-ff73-428f-b1e5-f902ce1e4208');\n",
              "          const dataTable =\n",
              "            await google.colab.kernel.invokeFunction('convertToInteractive',\n",
              "                                                     [key], {});\n",
              "          if (!dataTable) return;\n",
              "\n",
              "          const docLinkHtml = 'Like what you see? Visit the ' +\n",
              "            '<a target=\"_blank\" href=https://colab.research.google.com/notebooks/data_table.ipynb>data table notebook</a>'\n",
              "            + ' to learn more about interactive tables.';\n",
              "          element.innerHTML = '';\n",
              "          dataTable['output_type'] = 'display_data';\n",
              "          await google.colab.output.renderOutput(dataTable, element);\n",
              "          const docLink = document.createElement('div');\n",
              "          docLink.innerHTML = docLinkHtml;\n",
              "          element.appendChild(docLink);\n",
              "        }\n",
              "      </script>\n",
              "    </div>\n",
              "  </div>\n",
              "  "
            ],
            "text/plain": [
              "       AccX      AccY      AccZ      GyroX      GyroY      GyroZ Action\n",
              "0 -0.939453 -0.187012 -0.102051 -87.249161  11.572519 -28.156565   walk\n",
              "1 -0.942383 -0.180908 -0.063965 -32.081219  12.603053 -27.439007   walk\n",
              "2 -0.929199 -0.218262 -0.025635  24.056183  10.061069 -18.133663   walk\n",
              "3 -0.935547 -0.212891 -0.016113  35.254658  11.213740 -28.118397   walk\n",
              "4 -0.988770 -0.157959 -0.040283  12.880611   8.183207 -32.584045   walk"
            ]
          },
          "execution_count": 26,
          "metadata": {},
          "output_type": "execute_result"
        }
      ],
      "source": [
        "walk.head()\n"
      ]
    },
    {
      "cell_type": "code",
      "execution_count": null,
      "metadata": {
        "colab": {
          "base_uri": "https://localhost:8080/"
        },
        "id": "KKZ36ir_HbGg",
        "outputId": "ec83547f-1858-489f-acb2-d7e30336b20d"
      },
      "outputs": [
        {
          "name": "stdout",
          "output_type": "stream",
          "text": [
            "Grenade -  Min: 0, Max: 86\n",
            "Quit -  Min: 52, Max: 132\n",
            "Reload -  Min: 0, Max: 87\n",
            "Shield -  Min: 28, Max: 140\n",
            "Walk -  Min: 0, Max: 12\n"
          ]
        }
      ],
      "source": [
        "print(\"Grenade - \" + act_range_checker(grenade))\n",
        "print(\"Quit - \" + act_range_checker(quit))\n",
        "print(\"Reload - \" + act_range_checker(reload))\n",
        "print(\"Shield - \" + act_range_checker(shield))\n",
        "print(\"Walk - \" + act_range_checker(walk))"
      ]
    },
    {
      "cell_type": "code",
      "execution_count": null,
      "metadata": {
        "colab": {
          "base_uri": "https://localhost:8080/"
        },
        "id": "UgSszNW63-qv",
        "outputId": "2311aefe-2447-4d85-a7a8-a042b25b71de"
      },
      "outputs": [
        {
          "name": "stdout",
          "output_type": "stream",
          "text": [
            "1659\n"
          ]
        }
      ],
      "source": [
        "test = column_values(shield, 'AccX')\n",
        "temp = 0\n",
        "for i in range(len(test)):\n",
        "  if test[i]>-0.5:\n",
        "    temp +=1\n",
        "print(temp)"
      ]
    },
    {
      "cell_type": "code",
      "execution_count": null,
      "metadata": {
        "id": "feeHm0FDrzdF"
      },
      "outputs": [],
      "source": [
        "segments,labels = split_samples(combined_raw, 60)\n",
        "extracted, one_hot = prepare_training_data(segments, labels)"
      ]
    },
    {
      "cell_type": "code",
      "execution_count": null,
      "metadata": {
        "id": "NuMHmlZQ0Ywy"
      },
      "outputs": [],
      "source": [
        "segments,labels = split_samples(con_w, 60)\n",
        "extracted, one_hot = prepare_training_data(segments, labels)"
      ]
    },
    {
      "cell_type": "code",
      "source": [
        "len(segments)"
      ],
      "metadata": {
        "colab": {
          "base_uri": "https://localhost:8080/"
        },
        "id": "OC0PvtH1EXL_",
        "outputId": "40dff9bb-a6b4-45dd-c1b7-9e6c881069db"
      },
      "execution_count": null,
      "outputs": [
        {
          "output_type": "execute_result",
          "data": {
            "text/plain": [
              "107636"
            ]
          },
          "metadata": {},
          "execution_count": 8
        }
      ]
    },
    {
      "cell_type": "code",
      "execution_count": null,
      "metadata": {
        "id": "s_H97CZon-Z2"
      },
      "outputs": [],
      "source": [
        "extracted_reduced, one_hot = prepare_training_data_reduced(segments, labels)"
      ]
    },
    {
      "cell_type": "code",
      "execution_count": null,
      "metadata": {
        "colab": {
          "base_uri": "https://localhost:8080/"
        },
        "id": "negs9PrVVhk_",
        "outputId": "52e6d69d-35dc-46b3-82d4-8bb49b3600ff"
      },
      "outputs": [
        {
          "output_type": "stream",
          "name": "stdout",
          "text": [
            "Model: \"sequential\"\n",
            "_________________________________________________________________\n",
            " Layer (type)                Output Shape              Param #   \n",
            "=================================================================\n",
            " dense (Dense)               (None, 32)                13856     \n",
            "                                                                 \n",
            " dense_1 (Dense)             (None, 64)                2112      \n",
            "                                                                 \n",
            " dense_2 (Dense)             (None, 5)                 325       \n",
            "                                                                 \n",
            "=================================================================\n",
            "Total params: 16,293\n",
            "Trainable params: 16,293\n",
            "Non-trainable params: 0\n",
            "_________________________________________________________________\n",
            "None\n"
          ]
        }
      ],
      "source": [
        "#segments,labels = split_samples(combined_raw)\n",
        "#extracted, one_hot = prepare_training_data(segments, labels)\n",
        "\n",
        "RANDOM_SEED = 13\n",
        "input_size = len(extracted[0])\n",
        "\n",
        "X_train, X_test, y_train, y_test = train_test_split(\n",
        "        np.array(extracted), one_hot, test_size=0.2, random_state=RANDOM_SEED)\n",
        "\n",
        "model_m = Sequential()\n",
        "model_m.add(Dense(32, input_shape = (input_size, ), activation = 'relu'))\n",
        "model_m.add(Dense(64, activation='relu'))\n",
        "model_m.add(Dense(5, activation='softmax'))\n",
        "\n",
        "\n",
        "\n",
        "model_m.compile(loss='categorical_crossentropy',\n",
        "                optimizer='adam', metrics=['accuracy'])\n",
        "print(model_m.summary())"
      ]
    },
    {
      "cell_type": "code",
      "source": [
        "print(input_size)"
      ],
      "metadata": {
        "colab": {
          "base_uri": "https://localhost:8080/"
        },
        "id": "Udd9Gzq7SwlK",
        "outputId": "32057dc6-1aa0-4e08-8345-ff065f23bc6f"
      },
      "execution_count": null,
      "outputs": [
        {
          "output_type": "stream",
          "name": "stdout",
          "text": [
            "432\n"
          ]
        }
      ]
    },
    {
      "cell_type": "code",
      "execution_count": null,
      "metadata": {
        "colab": {
          "base_uri": "https://localhost:8080/"
        },
        "id": "a8O06s67V5Up",
        "outputId": "c10e0add-2a92-48a9-e30f-6c75c3f5e67e"
      },
      "outputs": [
        {
          "output_type": "stream",
          "name": "stdout",
          "text": [
            "Epoch 1/50\n",
            "539/539 [==============================] - 2s 3ms/step - loss: 10383162.0000 - accuracy: 0.7026 - val_loss: 242580.1406 - val_accuracy: 0.7809\n",
            "Epoch 2/50\n",
            "539/539 [==============================] - 1s 2ms/step - loss: 214226.4062 - accuracy: 0.8317 - val_loss: 1375189.7500 - val_accuracy: 0.8656\n",
            "Epoch 3/50\n",
            "539/539 [==============================] - 1s 2ms/step - loss: 179595.9688 - accuracy: 0.8910 - val_loss: 0.3705 - val_accuracy: 0.9383\n",
            "Epoch 4/50\n",
            "539/539 [==============================] - 1s 2ms/step - loss: 0.2691 - accuracy: 0.9535 - val_loss: 0.2826 - val_accuracy: 0.9541\n",
            "Epoch 5/50\n",
            "539/539 [==============================] - 1s 2ms/step - loss: 0.1872 - accuracy: 0.9666 - val_loss: 0.2006 - val_accuracy: 0.9692\n",
            "Epoch 6/50\n",
            "539/539 [==============================] - 1s 2ms/step - loss: 428.1486 - accuracy: 0.9412 - val_loss: 0.2925 - val_accuracy: 0.9542\n",
            "Epoch 7/50\n",
            "539/539 [==============================] - 1s 2ms/step - loss: 0.1955 - accuracy: 0.9635 - val_loss: 0.2109 - val_accuracy: 0.9665\n",
            "Epoch 8/50\n",
            "539/539 [==============================] - 1s 2ms/step - loss: 0.1444 - accuracy: 0.9719 - val_loss: 0.1666 - val_accuracy: 0.9716\n",
            "Epoch 9/50\n",
            "539/539 [==============================] - 1s 2ms/step - loss: 0.1197 - accuracy: 0.9752 - val_loss: 0.1769 - val_accuracy: 0.9732\n",
            "Epoch 10/50\n",
            "539/539 [==============================] - 1s 2ms/step - loss: 0.1063 - accuracy: 0.9783 - val_loss: 0.1611 - val_accuracy: 0.9763\n",
            "Epoch 11/50\n",
            "539/539 [==============================] - 1s 2ms/step - loss: 0.0996 - accuracy: 0.9797 - val_loss: 0.1327 - val_accuracy: 0.9760\n",
            "Epoch 12/50\n",
            "539/539 [==============================] - 1s 2ms/step - loss: 0.0880 - accuracy: 0.9810 - val_loss: 0.1519 - val_accuracy: 0.9764\n",
            "Epoch 13/50\n",
            "539/539 [==============================] - 1s 2ms/step - loss: 0.0829 - accuracy: 0.9815 - val_loss: 0.1407 - val_accuracy: 0.9767\n",
            "Epoch 14/50\n",
            "539/539 [==============================] - 1s 2ms/step - loss: 0.0744 - accuracy: 0.9838 - val_loss: 0.1515 - val_accuracy: 0.9769\n",
            "Epoch 15/50\n",
            "539/539 [==============================] - 1s 2ms/step - loss: 5111.8975 - accuracy: 0.9667 - val_loss: 0.2820 - val_accuracy: 0.9581\n",
            "Epoch 16/50\n",
            "539/539 [==============================] - 1s 2ms/step - loss: 0.1571 - accuracy: 0.9730 - val_loss: 0.1420 - val_accuracy: 0.9789\n",
            "Epoch 17/50\n",
            "539/539 [==============================] - 1s 2ms/step - loss: 0.0909 - accuracy: 0.9824 - val_loss: 0.1315 - val_accuracy: 0.9798\n",
            "Epoch 18/50\n",
            "539/539 [==============================] - 1s 2ms/step - loss: 0.0797 - accuracy: 0.9836 - val_loss: 0.1323 - val_accuracy: 0.9817\n",
            "Epoch 19/50\n",
            "539/539 [==============================] - 1s 2ms/step - loss: 0.0777 - accuracy: 0.9846 - val_loss: 0.1379 - val_accuracy: 0.9825\n",
            "Epoch 20/50\n",
            "539/539 [==============================] - 1s 2ms/step - loss: 0.0787 - accuracy: 0.9850 - val_loss: 0.1528 - val_accuracy: 0.9819\n",
            "Epoch 21/50\n",
            "539/539 [==============================] - 1s 2ms/step - loss: 0.0664 - accuracy: 0.9877 - val_loss: 0.1235 - val_accuracy: 0.9858\n",
            "Epoch 22/50\n",
            "539/539 [==============================] - 1s 2ms/step - loss: 3017.7336 - accuracy: 0.9811 - val_loss: 0.2030 - val_accuracy: 0.9707\n",
            "Epoch 23/50\n",
            "539/539 [==============================] - 1s 2ms/step - loss: 0.1137 - accuracy: 0.9797 - val_loss: 0.1498 - val_accuracy: 0.9797\n",
            "Epoch 24/50\n",
            "539/539 [==============================] - 1s 2ms/step - loss: 0.0732 - accuracy: 0.9858 - val_loss: 0.1190 - val_accuracy: 0.9823\n",
            "Epoch 25/50\n",
            "539/539 [==============================] - 1s 2ms/step - loss: 0.0620 - accuracy: 0.9873 - val_loss: 0.1293 - val_accuracy: 0.9849\n",
            "Epoch 26/50\n",
            "539/539 [==============================] - 1s 2ms/step - loss: 12869.3555 - accuracy: 0.9876 - val_loss: 0.4191 - val_accuracy: 0.9333\n",
            "Epoch 27/50\n",
            "539/539 [==============================] - 1s 2ms/step - loss: 0.1266 - accuracy: 0.9771 - val_loss: 0.1284 - val_accuracy: 0.9811\n",
            "Epoch 28/50\n",
            "539/539 [==============================] - 1s 2ms/step - loss: 0.0707 - accuracy: 0.9863 - val_loss: 0.1437 - val_accuracy: 0.9804\n",
            "Epoch 29/50\n",
            "539/539 [==============================] - 1s 2ms/step - loss: 0.0651 - accuracy: 0.9877 - val_loss: 0.1248 - val_accuracy: 0.9844\n",
            "Epoch 30/50\n",
            "539/539 [==============================] - 1s 2ms/step - loss: 0.0608 - accuracy: 0.9891 - val_loss: 0.1185 - val_accuracy: 0.9859\n",
            "Epoch 31/50\n",
            "539/539 [==============================] - 1s 2ms/step - loss: 0.0639 - accuracy: 0.9891 - val_loss: 0.1304 - val_accuracy: 0.9857\n",
            "Epoch 32/50\n",
            "539/539 [==============================] - 1s 2ms/step - loss: 0.0560 - accuracy: 0.9901 - val_loss: 0.1264 - val_accuracy: 0.9869\n",
            "Epoch 33/50\n",
            "539/539 [==============================] - 1s 2ms/step - loss: 0.0647 - accuracy: 0.9891 - val_loss: 0.1235 - val_accuracy: 0.9861\n",
            "Epoch 34/50\n",
            "539/539 [==============================] - 1s 2ms/step - loss: 0.0556 - accuracy: 0.9905 - val_loss: 20570.0020 - val_accuracy: 0.9880\n",
            "Epoch 35/50\n",
            "539/539 [==============================] - 1s 2ms/step - loss: 45296.1719 - accuracy: 0.9814 - val_loss: 0.2816 - val_accuracy: 0.9524\n",
            "Epoch 36/50\n",
            "539/539 [==============================] - 1s 2ms/step - loss: 0.1262 - accuracy: 0.9756 - val_loss: 0.1530 - val_accuracy: 0.9803\n",
            "Epoch 37/50\n",
            "539/539 [==============================] - 1s 2ms/step - loss: 0.0828 - accuracy: 0.9838 - val_loss: 0.1731 - val_accuracy: 0.9763\n",
            "Epoch 38/50\n",
            "539/539 [==============================] - 1s 2ms/step - loss: 0.0827 - accuracy: 0.9847 - val_loss: 0.1555 - val_accuracy: 0.9803\n",
            "Epoch 39/50\n",
            "539/539 [==============================] - 1s 2ms/step - loss: 0.0729 - accuracy: 0.9860 - val_loss: 0.1448 - val_accuracy: 0.9824\n",
            "Epoch 40/50\n",
            "539/539 [==============================] - 1s 2ms/step - loss: 0.0691 - accuracy: 0.9872 - val_loss: 0.1699 - val_accuracy: 0.9826\n",
            "Epoch 41/50\n",
            "539/539 [==============================] - 1s 2ms/step - loss: 0.0657 - accuracy: 0.9880 - val_loss: 0.1438 - val_accuracy: 0.9835\n",
            "Epoch 42/50\n",
            "539/539 [==============================] - 1s 2ms/step - loss: 0.0656 - accuracy: 0.9878 - val_loss: 0.1299 - val_accuracy: 0.9848\n",
            "Epoch 43/50\n",
            "539/539 [==============================] - 1s 2ms/step - loss: 0.0641 - accuracy: 0.9888 - val_loss: 0.1463 - val_accuracy: 0.9849\n",
            "Epoch 44/50\n",
            "539/539 [==============================] - 2s 3ms/step - loss: 0.0566 - accuracy: 0.9903 - val_loss: 0.1313 - val_accuracy: 0.9858\n",
            "Epoch 45/50\n",
            "539/539 [==============================] - 1s 2ms/step - loss: 4212.1069 - accuracy: 0.9642 - val_loss: 0.2709 - val_accuracy: 0.9675\n",
            "Epoch 46/50\n",
            "539/539 [==============================] - 1s 2ms/step - loss: 0.1285 - accuracy: 0.9781 - val_loss: 0.1774 - val_accuracy: 0.9740\n",
            "Epoch 47/50\n",
            "539/539 [==============================] - 1s 2ms/step - loss: 0.1083 - accuracy: 0.9815 - val_loss: 0.2087 - val_accuracy: 0.9760\n",
            "Epoch 48/50\n",
            "539/539 [==============================] - 1s 2ms/step - loss: 0.0840 - accuracy: 0.9860 - val_loss: 0.1811 - val_accuracy: 0.9790\n",
            "Epoch 49/50\n",
            "539/539 [==============================] - 1s 2ms/step - loss: 0.0778 - accuracy: 0.9871 - val_loss: 0.1563 - val_accuracy: 0.9833\n",
            "Epoch 50/50\n",
            "539/539 [==============================] - 1s 2ms/step - loss: 0.0748 - accuracy: 0.9873 - val_loss: 0.1587 - val_accuracy: 0.9818\n"
          ]
        }
      ],
      "source": [
        "history = model_m.fit(X_train,\n",
        "                    y_train,\n",
        "                      batch_size= 128,\n",
        "                      epochs=50,\n",
        "                      validation_split=0.2,\n",
        "                      verbose=1)"
      ]
    },
    {
      "cell_type": "code",
      "execution_count": null,
      "metadata": {
        "colab": {
          "base_uri": "https://localhost:8080/",
          "height": 488
        },
        "id": "NkvC2rHNS4yn",
        "outputId": "87d8d902-1fa8-4c0d-94a5-4526e4495fbc"
      },
      "outputs": [
        {
          "output_type": "stream",
          "name": "stdout",
          "text": [
            "673/673 [==============================] - 1s 1ms/step - loss: 0.0895 - accuracy: 0.9849\n",
            "673/673 [==============================] - 1s 1ms/step\n",
            "Test accuracy: 0.98, loss: 0.09\n"
          ]
        },
        {
          "output_type": "display_data",
          "data": {
            "text/plain": [
              "<Figure size 720x504 with 2 Axes>"
            ],
            "image/png": "[encoded data removed]"
          },
          "metadata": {
            "needs_background": "light"
          }
        }
      ],
      "source": [
        "model_eval(model_m, X_test, y_test)"
      ]
    },
    {
      "cell_type": "code",
      "execution_count": null,
      "metadata": {
        "colab": {
          "base_uri": "https://localhost:8080/"
        },
        "id": "2hEy1REDoOb9",
        "outputId": "e002719b-b247-4569-ce2d-934927d44e26"
      },
      "outputs": [
        {
          "output_type": "stream",
          "name": "stdout",
          "text": [
            "Model: \"sequential_1\"\n",
            "_________________________________________________________________\n",
            " Layer (type)                Output Shape              Param #   \n",
            "=================================================================\n",
            " dense_3 (Dense)             (None, 32)                6176      \n",
            "                                                                 \n",
            " dense_4 (Dense)             (None, 64)                2112      \n",
            "                                                                 \n",
            " dense_5 (Dense)             (None, 5)                 325       \n",
            "                                                                 \n",
            "=================================================================\n",
            "Total params: 8,613\n",
            "Trainable params: 8,613\n",
            "Non-trainable params: 0\n",
            "_________________________________________________________________\n",
            "None\n"
          ]
        }
      ],
      "source": [
        "RANDOM_SEED = 13\n",
        "input_size2 = len(extracted_reduced[0])//192\n",
        "\n",
        "X_train2, X_test2, y_train2, y_test2 = train_test_split(\n",
        "        np.array(extracted_reduced), one_hot, test_size=0.2, random_state=RANDOM_SEED)\n",
        "\n",
        "model_m2 = Sequential()\n",
        "model_m2.add(Dense(32, input_shape = (input_size2, ), activation = 'relu'))\n",
        "model_m2.add(Dense(64, activation='relu'))\n",
        "model_m2.add(Dense(5, activation='softmax'))\n",
        "\n",
        "\n",
        "\n",
        "model_m2.compile(loss='categorical_crossentropy',\n",
        "                optimizer='adam', metrics=['accuracy'])\n",
        "print(model_m2.summary())"
      ]
    },
    {
      "cell_type": "code",
      "execution_count": null,
      "metadata": {
        "colab": {
          "base_uri": "https://localhost:8080/"
        },
        "id": "juEtupS-p5Qt",
        "outputId": "b8b818d2-904e-4424-9e6d-778899014dff"
      },
      "outputs": [
        {
          "output_type": "stream",
          "name": "stdout",
          "text": [
            "132\n"
          ]
        }
      ],
      "source": [
        "print(input_size2)"
      ]
    },
    {
      "cell_type": "code",
      "execution_count": null,
      "metadata": {
        "colab": {
          "base_uri": "https://localhost:8080/"
        },
        "id": "redlz2DsoVEm",
        "outputId": "29bd5f13-b62e-48dc-8e58-965b51ef0080"
      },
      "outputs": [
        {
          "output_type": "stream",
          "name": "stdout",
          "text": [
            "Epoch 1/50\n",
            "539/539 [==============================] - 1s 2ms/step - loss: 5119621.0000 - accuracy: 0.9270 - val_loss: 0.1065 - val_accuracy: 0.9713\n",
            "Epoch 2/50\n",
            "539/539 [==============================] - 1s 2ms/step - loss: 0.0843 - accuracy: 0.9778 - val_loss: 0.0734 - val_accuracy: 0.9811\n",
            "Epoch 3/50\n",
            "539/539 [==============================] - 1s 2ms/step - loss: 0.0589 - accuracy: 0.9845 - val_loss: 0.0541 - val_accuracy: 0.9856\n",
            "Epoch 4/50\n",
            "539/539 [==============================] - 1s 2ms/step - loss: 106180.7734 - accuracy: 0.9875 - val_loss: 0.0482 - val_accuracy: 0.9873\n",
            "Epoch 5/50\n",
            "539/539 [==============================] - 1s 1ms/step - loss: 0.0345 - accuracy: 0.9904 - val_loss: 84342.2969 - val_accuracy: 0.9906\n",
            "Epoch 6/50\n",
            "539/539 [==============================] - 1s 1ms/step - loss: 106841.4141 - accuracy: 0.9880 - val_loss: 0.0341 - val_accuracy: 0.9904\n",
            "Epoch 7/50\n",
            "539/539 [==============================] - 1s 2ms/step - loss: 0.0254 - accuracy: 0.9935 - val_loss: 0.0276 - val_accuracy: 0.9922\n",
            "Epoch 8/50\n",
            "539/539 [==============================] - 1s 2ms/step - loss: 0.0197 - accuracy: 0.9948 - val_loss: 0.0251 - val_accuracy: 0.9920\n",
            "Epoch 9/50\n",
            "539/539 [==============================] - 1s 2ms/step - loss: 0.0155 - accuracy: 0.9962 - val_loss: 0.0187 - val_accuracy: 0.9945\n",
            "Epoch 10/50\n",
            "539/539 [==============================] - 1s 2ms/step - loss: 21031.4473 - accuracy: 0.9952 - val_loss: 0.0275 - val_accuracy: 0.9915\n",
            "Epoch 11/50\n",
            "539/539 [==============================] - 1s 2ms/step - loss: 0.0152 - accuracy: 0.9962 - val_loss: 0.0175 - val_accuracy: 0.9950\n",
            "Epoch 12/50\n",
            "539/539 [==============================] - 1s 2ms/step - loss: 0.0107 - accuracy: 0.9975 - val_loss: 0.0143 - val_accuracy: 0.9958\n",
            "Epoch 13/50\n",
            "539/539 [==============================] - 1s 2ms/step - loss: 0.0084 - accuracy: 0.9983 - val_loss: 0.0128 - val_accuracy: 0.9962\n",
            "Epoch 14/50\n",
            "539/539 [==============================] - 1s 2ms/step - loss: 0.0071 - accuracy: 0.9984 - val_loss: 0.0113 - val_accuracy: 0.9966\n",
            "Epoch 15/50\n",
            "539/539 [==============================] - 1s 2ms/step - loss: 0.0063 - accuracy: 0.9988 - val_loss: 0.0108 - val_accuracy: 0.9964\n",
            "Epoch 16/50\n",
            "539/539 [==============================] - 1s 2ms/step - loss: 0.0052 - accuracy: 0.9990 - val_loss: 0.0096 - val_accuracy: 0.9964\n",
            "Epoch 17/50\n",
            "539/539 [==============================] - 1s 2ms/step - loss: 67037.2656 - accuracy: 0.9985 - val_loss: 0.0154 - val_accuracy: 0.9957\n",
            "Epoch 18/50\n",
            "539/539 [==============================] - 1s 2ms/step - loss: 0.0064 - accuracy: 0.9985 - val_loss: 0.0085 - val_accuracy: 0.9978\n",
            "Epoch 19/50\n",
            "539/539 [==============================] - 1s 2ms/step - loss: 0.0038 - accuracy: 0.9993 - val_loss: 0.0071 - val_accuracy: 0.9978\n",
            "Epoch 20/50\n",
            "539/539 [==============================] - 1s 2ms/step - loss: 0.0032 - accuracy: 0.9995 - val_loss: 0.0086 - val_accuracy: 0.9970\n",
            "Epoch 21/50\n",
            "539/539 [==============================] - 1s 2ms/step - loss: 0.0030 - accuracy: 0.9994 - val_loss: 0.0058 - val_accuracy: 0.9985\n",
            "Epoch 22/50\n",
            "539/539 [==============================] - 1s 2ms/step - loss: 0.0023 - accuracy: 0.9997 - val_loss: 0.0076 - val_accuracy: 0.9975\n",
            "Epoch 23/50\n",
            "539/539 [==============================] - 1s 2ms/step - loss: 0.0021 - accuracy: 0.9996 - val_loss: 0.0060 - val_accuracy: 0.9982\n",
            "Epoch 24/50\n",
            "539/539 [==============================] - 1s 2ms/step - loss: 0.0024 - accuracy: 0.9995 - val_loss: 0.0067 - val_accuracy: 0.9981\n",
            "Epoch 25/50\n",
            "539/539 [==============================] - 1s 2ms/step - loss: 0.0016 - accuracy: 0.9998 - val_loss: 0.0040 - val_accuracy: 0.9990\n",
            "Epoch 26/50\n",
            "539/539 [==============================] - 1s 2ms/step - loss: 0.0011 - accuracy: 0.9999 - val_loss: 0.0042 - val_accuracy: 0.9987\n",
            "Epoch 27/50\n",
            "539/539 [==============================] - 1s 2ms/step - loss: 0.0011 - accuracy: 0.9999 - val_loss: 0.0058 - val_accuracy: 0.9984\n",
            "Epoch 28/50\n",
            "539/539 [==============================] - 1s 2ms/step - loss: 0.0018 - accuracy: 0.9996 - val_loss: 0.0066 - val_accuracy: 0.9981\n",
            "Epoch 29/50\n",
            "539/539 [==============================] - 1s 2ms/step - loss: 0.0015 - accuracy: 0.9997 - val_loss: 0.0073 - val_accuracy: 0.9979\n",
            "Epoch 30/50\n",
            "539/539 [==============================] - 1s 2ms/step - loss: 9.0122e-04 - accuracy: 0.9999 - val_loss: 0.0031 - val_accuracy: 0.9992\n",
            "Epoch 31/50\n",
            "539/539 [==============================] - 1s 2ms/step - loss: 5.1852e-04 - accuracy: 1.0000 - val_loss: 0.0034 - val_accuracy: 0.9991\n",
            "Epoch 32/50\n",
            "539/539 [==============================] - 1s 2ms/step - loss: 5.3061e-04 - accuracy: 1.0000 - val_loss: 0.0035 - val_accuracy: 0.9987\n",
            "Epoch 33/50\n",
            "539/539 [==============================] - 1s 2ms/step - loss: 0.0013 - accuracy: 0.9997 - val_loss: 0.0036 - val_accuracy: 0.9989\n",
            "Epoch 34/50\n",
            "539/539 [==============================] - 1s 2ms/step - loss: 4.4081e-04 - accuracy: 1.0000 - val_loss: 0.0038 - val_accuracy: 0.9988\n",
            "Epoch 35/50\n",
            "539/539 [==============================] - 1s 2ms/step - loss: 3.9861e-04 - accuracy: 1.0000 - val_loss: 0.0027 - val_accuracy: 0.9991\n",
            "Epoch 36/50\n",
            "539/539 [==============================] - 1s 2ms/step - loss: 1564133.2500 - accuracy: 0.9989 - val_loss: 0.0088 - val_accuracy: 0.9979\n",
            "Epoch 37/50\n",
            "539/539 [==============================] - 1s 2ms/step - loss: 8.4204e-04 - accuracy: 0.9999 - val_loss: 0.0033 - val_accuracy: 0.9990\n",
            "Epoch 38/50\n",
            "539/539 [==============================] - 1s 2ms/step - loss: 3.8793e-04 - accuracy: 1.0000 - val_loss: 0.0031 - val_accuracy: 0.9988\n",
            "Epoch 39/50\n",
            "539/539 [==============================] - 1s 2ms/step - loss: 3.1942e-04 - accuracy: 1.0000 - val_loss: 0.0029 - val_accuracy: 0.9988\n",
            "Epoch 40/50\n",
            "539/539 [==============================] - 1s 2ms/step - loss: 3.1811e-04 - accuracy: 1.0000 - val_loss: 0.0027 - val_accuracy: 0.9992\n",
            "Epoch 41/50\n",
            "539/539 [==============================] - 1s 2ms/step - loss: 3.7548e-04 - accuracy: 1.0000 - val_loss: 0.0036 - val_accuracy: 0.9991\n",
            "Epoch 42/50\n",
            "539/539 [==============================] - 1s 2ms/step - loss: 0.0026 - accuracy: 0.9992 - val_loss: 0.0049 - val_accuracy: 0.9987\n",
            "Epoch 43/50\n",
            "539/539 [==============================] - 1s 2ms/step - loss: 6.6652e-04 - accuracy: 0.9999 - val_loss: 0.0031 - val_accuracy: 0.9988\n",
            "Epoch 44/50\n",
            "539/539 [==============================] - 1s 2ms/step - loss: 3.9328e-04 - accuracy: 0.9999 - val_loss: 0.0028 - val_accuracy: 0.9992\n",
            "Epoch 45/50\n",
            "539/539 [==============================] - 1s 2ms/step - loss: 2.0987e-04 - accuracy: 1.0000 - val_loss: 0.0025 - val_accuracy: 0.9992\n",
            "Epoch 46/50\n",
            "539/539 [==============================] - 1s 2ms/step - loss: 1.5901e-04 - accuracy: 1.0000 - val_loss: 0.0024 - val_accuracy: 0.9992\n",
            "Epoch 47/50\n",
            "539/539 [==============================] - 1s 2ms/step - loss: 1.4650e-04 - accuracy: 1.0000 - val_loss: 0.0039 - val_accuracy: 0.9987\n",
            "Epoch 48/50\n",
            "539/539 [==============================] - 1s 3ms/step - loss: 0.0013 - accuracy: 0.9997 - val_loss: 0.0037 - val_accuracy: 0.9988\n",
            "Epoch 49/50\n",
            "539/539 [==============================] - 1s 3ms/step - loss: 6.8295e-04 - accuracy: 0.9998 - val_loss: 0.0025 - val_accuracy: 0.9990\n",
            "Epoch 50/50\n",
            "539/539 [==============================] - 1s 2ms/step - loss: 1.6541e-04 - accuracy: 1.0000 - val_loss: 0.0023 - val_accuracy: 0.9993\n"
          ]
        }
      ],
      "source": [
        "history = model_m2.fit(X_train2,\n",
        "                    y_train2,\n",
        "                      batch_size= 128,\n",
        "                      epochs=50,\n",
        "                      validation_split=0.2,\n",
        "                      verbose=1)"
      ]
    },
    {
      "cell_type": "code",
      "execution_count": null,
      "metadata": {
        "colab": {
          "base_uri": "https://localhost:8080/",
          "height": 488
        },
        "id": "nYhYatCNoqRr",
        "outputId": "b7671231-48f8-4ccb-eee5-9f8241c33e04"
      },
      "outputs": [
        {
          "output_type": "stream",
          "name": "stdout",
          "text": [
            "673/673 [==============================] - 1s 1ms/step - loss: 0.0058 - accuracy: 0.9983\n",
            "673/673 [==============================] - 1s 1ms/step\n",
            "Test accuracy: 1.00, loss: 0.01\n"
          ]
        },
        {
          "output_type": "display_data",
          "data": {
            "text/plain": [
              "<Figure size 720x504 with 2 Axes>"
            ],
            "image/png": "[encoded data removed]"
          },
          "metadata": {}
        }
      ],
      "source": [
        "model_eval(model_m2, X_test2, y_test2)"
      ]
    },
    {
      "cell_type": "code",
      "execution_count": null,
      "metadata": {
        "colab": {
          "base_uri": "https://localhost:8080/"
        },
        "id": "rvYPyYyor-Pc",
        "outputId": "817d5c5e-cd9a-4ed6-94da-879d7a245cb9"
      },
      "outputs": [
        {
          "name": "stdout",
          "output_type": "stream",
          "text": [
            "accy: -0.24711613772097707\n",
            "accz: -0.24943301826623052\n",
            "acc mean y: -0.4510444422625364\n",
            "acc mean z: -0.3720804368203768\n",
            "gyro mean x: 0.3934207807675322\n",
            "acc median y: -0.3594014170200692\n",
            "acc median z: -0.36534019802414275\n",
            "gyro median x: 0.2993924760354565\n"
          ]
        }
      ],
      "source": [
        "get_corr(extracted,labels,0.2)"
      ]
    },
    {
      "cell_type": "code",
      "execution_count": null,
      "metadata": {
        "colab": {
          "base_uri": "https://localhost:8080/"
        },
        "id": "if9KyJgiLiOZ",
        "outputId": "a2b18233-e216-4643-d353-05cd7d062690"
      },
      "outputs": [
        {
          "name": "stdout",
          "output_type": "stream",
          "text": [
            "grenade -  index: 0, one hot: [1. 0. 0. 0. 0.]\n",
            "quit -  index: 1, one hot: [0. 1. 0. 0. 0.]\n",
            "reload -  index: 2, one hot: [0. 0. 1. 0. 0.]\n",
            "shield -  index: 3, one hot: [0. 0. 0. 1. 0.]\n",
            "walk -  index: 4, one hot: [0. 0. 0. 0. 1.]\n"
          ]
        }
      ],
      "source": [
        "label_index(labels, one_hot)"
      ]
    },
    {
      "cell_type": "code",
      "execution_count": null,
      "metadata": {
        "id": "DUZW-OLVlSeV"
      },
      "outputs": [],
      "source": [
        "model_m.save('actual_v2')"
      ]
    },
    {
      "cell_type": "code",
      "execution_count": null,
      "metadata": {
        "id": "FfESuZhXRkQH"
      },
      "outputs": [],
      "source": [
        "model_to_cpp(model_m2)"
      ]
    },
    {
      "cell_type": "code",
      "execution_count": null,
      "metadata": {
        "id": "1Q-9QIrTucKh"
      },
      "outputs": [],
      "source": [
        "\n",
        "save_test(X_test,y_test)\n"
      ]
    }
  ],
  "metadata": {
    "colab": {
      "provenance": []
    },
    "kernelspec": {
      "display_name": "Python 3",
      "name": "python3"
    },
    "language_info": {
      "name": "python"
    }
  },
  "nbformat": 4,
  "nbformat_minor": 0
}